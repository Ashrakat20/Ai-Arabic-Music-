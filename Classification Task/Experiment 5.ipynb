{
 "cells": [
  {
   "cell_type": "code",
   "execution_count": 1,
   "id": "77569ec6",
   "metadata": {},
   "outputs": [
    {
     "name": "stderr",
     "output_type": "stream",
     "text": [
      "C:\\Users\\elsha\\anaconda3\\lib\\site-packages\\paramiko\\transport.py:219: CryptographyDeprecationWarning: Blowfish has been deprecated\n",
      "  \"class\": algorithms.Blowfish,\n"
     ]
    }
   ],
   "source": [
    "import os\n",
    "from pydub import AudioSegment\n",
    "import librosa\n",
    "import soundfile as sf\n",
    "from matplotlib import pyplot as plt\n",
    "import librosa.display\n",
    "import numpy as np\n",
    "import io\n",
    "from keras.models import load_model\n",
    "from tensorflow.keras.utils import to_categorical\n",
    "from sklearn.model_selection import train_test_split\n",
    "import tensorflow as tf\n",
    "from sklearn.metrics import confusion_matrix\n",
    "from tensorflow.keras.models import Sequential\n",
    "from tensorflow.keras.layers import Dense, Dropout, Flatten, Conv2D, MaxPool2D\n",
    "from tensorflow.keras import layers, models\n",
    "from tensorflow.keras.optimizers import Adam\n",
    "from tensorflow.keras.callbacks import ModelCheckpoint\n"
   ]
  },
  {
   "cell_type": "markdown",
   "id": "6f07b32e",
   "metadata": {},
   "source": [
    "# Frequency Masking"
   ]
  },
  {
   "cell_type": "code",
   "execution_count": null,
   "id": "7fdd16f4",
   "metadata": {},
   "outputs": [],
   "source": [
    "import librosa\n",
    "import numpy as np\n",
    "\n",
    "# Define function for frequency masking\n",
    "def freq_mask(spec, F=30, num_masks=1, replace_with_zero=True):\n",
    "    \"\"\"\n",
    "    Apply frequency masking to a spectrogram.\n",
    "\n",
    "    Args:\n",
    "    spec (ndarray): Input spectrogram of shape (freq_bins, time_frames)\n",
    "    F (int): Maximum number of consecutive frequency bins to mask\n",
    "    num_masks (int): Number of masks to apply\n",
    "    replace_with_zero (bool): Whether to replace masked values with zero or random values\n",
    "\n",
    "    Returns:\n",
    "    masked_spec (ndarray): Masked spectrogram of shape (freq_bins, time_frames)\n",
    "    \"\"\"\n",
    "    masked_spec = spec.copy()\n",
    "    num_bins, num_frames = masked_spec.shape\n",
    "\n",
    "    for i in range(num_masks):\n",
    "        f = np.random.randint(low=0, high=F)\n",
    "        start = np.random.randint(low=0, high=num_bins - f)\n",
    "        masked_spec[start:start + f, :] = 0.0\n",
    "\n",
    "        if not replace_with_zero:\n",
    "            mask_value = np.random.uniform(low=masked_spec.min(), high=masked_spec.max())\n",
    "            masked_spec[start:start + f, :] = mask_value\n",
    "\n",
    "    return masked_spec\n",
    "\n",
    "\n",
    "folder_path = r\"D:\\Education\\Semester 6\\CSE 321 Project Based Learning on CSE\\Composers Classification\\Mel-Spectrogram\\Train\"\n",
    "Out = r\"D:\\Education\\Semester 6\\CSE 321 Project Based Learning on CSE\\Composers Classification\\Experiment 5\\Train\"\n",
    "\n",
    "for folder in os.listdir(folder_path):\n",
    "    comp_in = os.path.join(folder_path, folder)\n",
    "    comp_out = os.path.join(Out, folder)\n",
    "    for file_name in os.listdir(comp_in):\n",
    "        file_path = os.path.join(comp_in, file_name)\n",
    "        mel = np.load(file_path)\n",
    "        \n",
    "        # Apply frequency masking\n",
    "        masked_spec = freq_mask(mel)\n",
    "        \n",
    "        out_path = os.path.join(comp_out, file_name)\n",
    "        np.save(out_path, masked_spec)\n",
    "        "
   ]
  },
  {
   "cell_type": "code",
   "execution_count": null,
   "id": "a7e29c8a",
   "metadata": {},
   "outputs": [],
   "source": [
    "def preparing_data(data_path):\n",
    "    # define path to MFCC data and number of classes\n",
    "    num_classes = 8\n",
    "    counter = 1\n",
    "\n",
    "    # load and preprocess data\n",
    "    X = []\n",
    "    y = []\n",
    "    for composer_idx in range(num_classes):\n",
    "        composer_path = os.path.join(data_path, f'{composer_idx}')\n",
    "        for file in os.listdir(composer_path):\n",
    "            file_path = os.path.join(composer_path, file)\n",
    "            mel = np.load(file_path, allow_pickle=True)\n",
    "            if (mel.shape == (128, 216)):\n",
    "                X.append(mel)\n",
    "                y.append(composer_idx)\n",
    "                counter += 1\n",
    "            else:\n",
    "                print(\":(\")\n",
    "\n",
    "    # convert to numpy arrays and one-hot encode labels\n",
    "    X = np.array(X)\n",
    "    y = np.array(y)\n",
    "    y_onehot = to_categorical(y, num_classes=num_classes)\n",
    "\n",
    "    return X, y_onehot"
   ]
  },
  {
   "cell_type": "code",
   "execution_count": null,
   "id": "5a4cc67b",
   "metadata": {},
   "outputs": [],
   "source": [
    "path = r\"D:\\Education\\Semester 6\\CSE 321 Project Based Learning on CSE\\Composers Classification\\Experiment 4\\Mel-Spectrogram_aug\"\n",
    "X_test, y_test = preparing_data(path)"
   ]
  },
  {
   "cell_type": "code",
   "execution_count": null,
   "id": "39a64726",
   "metadata": {},
   "outputs": [],
   "source": [
    "path = \"D:\\Education\\Semester 6\\CSE 321 Project Based Learning on CSE\\Composers Classification\\Mel-Spectrogram\\Train\"\n",
    "X_train, y_train = preparing_data(path)"
   ]
  },
  {
   "cell_type": "code",
   "execution_count": null,
   "id": "78bc3dce",
   "metadata": {},
   "outputs": [],
   "source": [
    "path = \"D:\\Education\\Semester 6\\CSE 321 Project Based Learning on CSE\\Composers Classification\\Experiment 4\\Mel-Spectrogram_aug\"\n",
    "X_train_aug1, y_train_aug1 = preparing_data(path)"
   ]
  },
  {
   "cell_type": "code",
   "execution_count": null,
   "id": "91a15c29",
   "metadata": {},
   "outputs": [],
   "source": [
    "path = r\"D:\\Education\\Semester 6\\CSE 321 Project Based Learning on CSE\\Composers Classification\\Experiment 4\\X_train_aug1\"\n",
    "np.save(path, X_train_aug1)\n",
    "\n",
    "path = r\"D:\\Education\\Semester 6\\CSE 321 Project Based Learning on CSE\\Composers Classification\\Experiment 4\\y_train_aug1\"\n",
    "np.save(path, y_train_aug1)"
   ]
  },
  {
   "cell_type": "code",
   "execution_count": 2,
   "id": "f0be3554",
   "metadata": {},
   "outputs": [],
   "source": [
    "X_train_aug2 = np.load(r\"D:\\Education\\Semester 6\\CSE 321 Project Based Learning on CSE\\Composers Classification\\Experiment 5\\Preprocessed_masked\\X_train.npy\")\n",
    "X_train_orig = np.load(r\"D:\\Education\\Semester 6\\CSE 321 Project Based Learning on CSE\\Composers Classification\\Experiment 5\\Preprocessed_original\\X_train.npy\")\n",
    "y_train_aug2 = np.load(r\"D:\\Education\\Semester 6\\CSE 321 Project Based Learning on CSE\\Composers Classification\\Experiment 5\\Preprocessed_masked\\y_train.npy\")\n",
    "y_train_orig = np.load(r\"D:\\Education\\Semester 6\\CSE 321 Project Based Learning on CSE\\Composers Classification\\Experiment 5\\Preprocessed_original\\y_train.npy\")\n",
    "X_train_aug1 = np.load(r\"D:\\Education\\Semester 6\\CSE 321 Project Based Learning on CSE\\Composers Classification\\Experiment 4\\X_train_aug1.npy\")\n",
    "y_train_aug1 = np.load(r\"D:\\Education\\Semester 6\\CSE 321 Project Based Learning on CSE\\Composers Classification\\Experiment 4\\y_train_aug1.npy\")"
   ]
  },
  {
   "cell_type": "code",
   "execution_count": 3,
   "id": "630867b6",
   "metadata": {},
   "outputs": [
    {
     "name": "stdout",
     "output_type": "stream",
     "text": [
      "(10886, 128, 216)\n",
      "(41825, 128, 216)\n",
      "(10886, 128, 216)\n",
      "(10886, 8)\n",
      "(41825, 8)\n",
      "(10886, 8)\n",
      "(2295, 128, 216)\n",
      "(2295, 8)\n",
      "(2199, 128, 216)\n",
      "(2199, 8)\n"
     ]
    }
   ],
   "source": [
    "print(X_train_orig.shape)\n",
    "print(X_train_aug1.shape)\n",
    "print(X_train_aug2.shape)\n",
    "print(y_train_orig.shape)\n",
    "print(y_train_aug1.shape)\n",
    "print(y_train_aug2.shape)\n",
    "\n",
    "print(X_test.shape)\n",
    "print(y_test.shape)\n",
    "\n",
    "print(X_val.shape)\n",
    "print(y_val.shape)"
   ]
  },
  {
   "cell_type": "code",
   "execution_count": 4,
   "id": "cd2e610f",
   "metadata": {},
   "outputs": [
    {
     "name": "stdout",
     "output_type": "stream",
     "text": [
      "(52711, 128, 216)\n",
      "(52711, 8)\n"
     ]
    }
   ],
   "source": [
    "# Combine the two datasets and their labels\n",
    "X_train1 = np.concatenate((X_train_aug1, X_train_aug2))\n",
    "y_train1 = np.concatenate((y_train_aug1, y_train_aug2))\n",
    "\n",
    "# Create an array of indices and shuffle them randomly\n",
    "indices = np.arange(len(X_train1))\n",
    "np.random.shuffle(indices)\n",
    "\n",
    "# Shuffle the X_train and y_train arrays based on the shuffled indices\n",
    "X_train1 = X_train1[indices]\n",
    "y_train1 = y_train1[indices]\n",
    "\n",
    "print(X_train1.shape)\n",
    "print(y_train1.shape)"
   ]
  },
  {
   "cell_type": "code",
   "execution_count": 5,
   "id": "0cad47ea",
   "metadata": {},
   "outputs": [
    {
     "name": "stdout",
     "output_type": "stream",
     "text": [
      "(63597, 128, 216)\n",
      "(63597, 8)\n"
     ]
    }
   ],
   "source": [
    "# Combine the two datasets and their labels\n",
    "X_train = np.concatenate((X_train1, X_train_orig))\n",
    "y_train = np.concatenate((y_train1, y_train_orig))\n",
    "\n",
    "# Create an array of indices and shuffle them randomly\n",
    "indices = np.arange(len(X_train))\n",
    "np.random.shuffle(indices)\n",
    "\n",
    "# Shuffle the X_train and y_train arrays based on the shuffled indices\n",
    "X_train = X_train[indices]\n",
    "y_train = y_train[indices]\n",
    "\n",
    "print(X_train.shape)\n",
    "print(y_train.shape)"
   ]
  },
  {
   "cell_type": "code",
   "execution_count": 2,
   "id": "854a1bff",
   "metadata": {},
   "outputs": [],
   "source": [
    "X_train = np.load(\"D:\\Education\\Semester 6\\CSE 321 Project Based Learning on CSE\\Composers Classification\\Experiment 5\\X_train.npy\")\n",
    "y_train = np.load(\"D:\\Education\\Semester 6\\CSE 321 Project Based Learning on CSE\\Composers Classification\\Experiment 5\\y_train.npy\")\n",
    "\n",
    "X_test = np.load(r\"D:\\Education\\Semester 6\\CSE 321 Project Based Learning on CSE\\Composers Classification\\Experiment 5\\Preprocessed_original\\X_test.npy\")\n",
    "X_val = np.load(r\"D:\\Education\\Semester 6\\CSE 321 Project Based Learning on CSE\\Composers Classification\\Experiment 5\\Preprocessed_original\\X_val.npy\")\n",
    "y_test = np.load(r\"D:\\Education\\Semester 6\\CSE 321 Project Based Learning on CSE\\Composers Classification\\Experiment 5\\Preprocessed_original\\y_test.npy\")\n",
    "y_val = np.load(r\"D:\\Education\\Semester 6\\CSE 321 Project Based Learning on CSE\\Composers Classification\\Experiment 5\\Preprocessed_original\\y_val.npy\")\n"
   ]
  },
  {
   "cell_type": "markdown",
   "id": "c0dc9194",
   "metadata": {},
   "source": [
    "# Model"
   ]
  },
  {
   "cell_type": "code",
   "execution_count": 3,
   "id": "fc211462",
   "metadata": {},
   "outputs": [],
   "source": [
    "model1 = models.Sequential()\n",
    "model1.add(layers.Conv2D(filters=128, padding = \"same\", kernel_size=(5, 5), strides=(1, 1), activation=tf.nn.relu,input_shape=(128, 216, 1)))\n",
    "model1.add(layers.MaxPool2D((2, 2),strides=2))\n",
    "model1.add(layers.Dropout(0.3))\n",
    "\n",
    "model1.add(layers.Conv2D(filters=128, padding = \"same\", kernel_size=(5, 5), strides=(1, 1), activation=tf.nn.relu))\n",
    "model1.add(layers.MaxPool2D(pool_size=(2, 2),strides=2))\n",
    "model1.add(layers.Dropout(0.3))\n",
    "\n",
    "model1.add(layers.Conv2D(filters=128, padding = \"same\", kernel_size=(5, 5), strides=(1, 1), activation=tf.nn.relu))\n",
    "model1.add(layers.MaxPool2D(pool_size=(2, 2),strides=2))\n",
    "model1.add(layers.Dropout(0.3))\n",
    "\n",
    "model1.add(layers.Conv2D(filters=128, padding = \"same\", kernel_size=(5, 5), strides=(1, 1), activation=tf.nn.relu))\n",
    "model1.add(layers.MaxPool2D(pool_size=(2, 2),strides=2))\n",
    "model1.add(layers.Dropout(0.3))\n",
    "\n",
    "model1.add(layers.Conv2D(filters=128, padding = \"same\", kernel_size=(5, 5), strides=(1, 1), activation=tf.nn.relu))\n",
    "model1.add(layers.MaxPool2D(pool_size=(2, 2),strides=2))\n",
    "model1.add(layers.Dropout(0.3))\n",
    "\n",
    "model1.add(layers.Conv2D(filters=128, padding = \"same\", kernel_size=(5, 5), strides=(1, 1), activation=tf.nn.relu))\n",
    "model1.add(layers.MaxPool2D(pool_size=(2, 2),strides=2))\n",
    "model1.add(layers.Dropout(0.3))\n",
    "\n",
    "model1.add(layers.Flatten())\n",
    "model1.add(layers.Dense(units=256, activation=tf.nn.relu,kernel_regularizer=tf.keras.regularizers.L2(0.003)))\n",
    "model1.add(layers.Dense(units=128, activation=tf.nn.relu,kernel_regularizer=tf.keras.regularizers.L2(0.003)))\n",
    "model1.add(layers.Dense(units=8, activation=tf.nn.softmax))\n",
    "\n",
    "# define the checkpoint callback\n",
    "checkpoint_path = \"best_model1.h5\"\n",
    "checkpoint = ModelCheckpoint(checkpoint_path, monitor='val_accuracy', verbose=1,\n",
    "                             save_best_only=True, mode='max')\n",
    "\n",
    "# compile the model\n",
    "model1.compile(loss=\"categorical_crossentropy\",\n",
    "             optimizer='adam',\n",
    "             metrics=['accuracy'])"
   ]
  },
  {
   "cell_type": "code",
   "execution_count": 4,
   "id": "d9e16e01",
   "metadata": {},
   "outputs": [
    {
     "name": "stdout",
     "output_type": "stream",
     "text": [
      "Epoch 1/30\n",
      "  22/1988 [..............................] - ETA: 1:24:04 - loss: 4.1121 - accuracy: 0.1108"
     ]
    },
    {
     "ename": "KeyboardInterrupt",
     "evalue": "",
     "output_type": "error",
     "traceback": [
      "\u001b[1;31m---------------------------------------------------------------------------\u001b[0m",
      "\u001b[1;31mKeyboardInterrupt\u001b[0m                         Traceback (most recent call last)",
      "\u001b[1;32m~\\AppData\\Local\\Temp\\ipykernel_10780\\2705874609.py\u001b[0m in \u001b[0;36m<module>\u001b[1;34m\u001b[0m\n\u001b[1;32m----> 1\u001b[1;33m \u001b[0mmodel1\u001b[0m\u001b[1;33m.\u001b[0m\u001b[0mfit\u001b[0m\u001b[1;33m(\u001b[0m\u001b[0mX_train\u001b[0m\u001b[1;33m,\u001b[0m \u001b[0my_train\u001b[0m\u001b[1;33m,\u001b[0m \u001b[0mepochs\u001b[0m\u001b[1;33m=\u001b[0m\u001b[1;36m30\u001b[0m \u001b[1;33m,\u001b[0m \u001b[0mbatch_size\u001b[0m\u001b[1;33m=\u001b[0m\u001b[1;36m32\u001b[0m\u001b[1;33m,\u001b[0m \u001b[0mvalidation_data\u001b[0m\u001b[1;33m=\u001b[0m\u001b[1;33m(\u001b[0m\u001b[0mX_val\u001b[0m\u001b[1;33m,\u001b[0m \u001b[0my_val\u001b[0m\u001b[1;33m)\u001b[0m\u001b[1;33m,\u001b[0m \u001b[0mcallbacks\u001b[0m\u001b[1;33m=\u001b[0m\u001b[1;33m[\u001b[0m\u001b[0mcheckpoint\u001b[0m\u001b[1;33m]\u001b[0m\u001b[1;33m)\u001b[0m\u001b[1;33m\u001b[0m\u001b[1;33m\u001b[0m\u001b[0m\n\u001b[0m",
      "\u001b[1;32m~\\anaconda3\\lib\\site-packages\\keras\\utils\\traceback_utils.py\u001b[0m in \u001b[0;36merror_handler\u001b[1;34m(*args, **kwargs)\u001b[0m\n\u001b[0;32m     63\u001b[0m         \u001b[0mfiltered_tb\u001b[0m \u001b[1;33m=\u001b[0m \u001b[1;32mNone\u001b[0m\u001b[1;33m\u001b[0m\u001b[1;33m\u001b[0m\u001b[0m\n\u001b[0;32m     64\u001b[0m         \u001b[1;32mtry\u001b[0m\u001b[1;33m:\u001b[0m\u001b[1;33m\u001b[0m\u001b[1;33m\u001b[0m\u001b[0m\n\u001b[1;32m---> 65\u001b[1;33m             \u001b[1;32mreturn\u001b[0m \u001b[0mfn\u001b[0m\u001b[1;33m(\u001b[0m\u001b[1;33m*\u001b[0m\u001b[0margs\u001b[0m\u001b[1;33m,\u001b[0m \u001b[1;33m**\u001b[0m\u001b[0mkwargs\u001b[0m\u001b[1;33m)\u001b[0m\u001b[1;33m\u001b[0m\u001b[1;33m\u001b[0m\u001b[0m\n\u001b[0m\u001b[0;32m     66\u001b[0m         \u001b[1;32mexcept\u001b[0m \u001b[0mException\u001b[0m \u001b[1;32mas\u001b[0m \u001b[0me\u001b[0m\u001b[1;33m:\u001b[0m\u001b[1;33m\u001b[0m\u001b[1;33m\u001b[0m\u001b[0m\n\u001b[0;32m     67\u001b[0m             \u001b[0mfiltered_tb\u001b[0m \u001b[1;33m=\u001b[0m \u001b[0m_process_traceback_frames\u001b[0m\u001b[1;33m(\u001b[0m\u001b[0me\u001b[0m\u001b[1;33m.\u001b[0m\u001b[0m__traceback__\u001b[0m\u001b[1;33m)\u001b[0m\u001b[1;33m\u001b[0m\u001b[1;33m\u001b[0m\u001b[0m\n",
      "\u001b[1;32m~\\anaconda3\\lib\\site-packages\\keras\\engine\\training.py\u001b[0m in \u001b[0;36mfit\u001b[1;34m(self, x, y, batch_size, epochs, verbose, callbacks, validation_split, validation_data, shuffle, class_weight, sample_weight, initial_epoch, steps_per_epoch, validation_steps, validation_batch_size, validation_freq, max_queue_size, workers, use_multiprocessing)\u001b[0m\n\u001b[0;32m   1648\u001b[0m                         ):\n\u001b[0;32m   1649\u001b[0m                             \u001b[0mcallbacks\u001b[0m\u001b[1;33m.\u001b[0m\u001b[0mon_train_batch_begin\u001b[0m\u001b[1;33m(\u001b[0m\u001b[0mstep\u001b[0m\u001b[1;33m)\u001b[0m\u001b[1;33m\u001b[0m\u001b[1;33m\u001b[0m\u001b[0m\n\u001b[1;32m-> 1650\u001b[1;33m                             \u001b[0mtmp_logs\u001b[0m \u001b[1;33m=\u001b[0m \u001b[0mself\u001b[0m\u001b[1;33m.\u001b[0m\u001b[0mtrain_function\u001b[0m\u001b[1;33m(\u001b[0m\u001b[0miterator\u001b[0m\u001b[1;33m)\u001b[0m\u001b[1;33m\u001b[0m\u001b[1;33m\u001b[0m\u001b[0m\n\u001b[0m\u001b[0;32m   1651\u001b[0m                             \u001b[1;32mif\u001b[0m \u001b[0mdata_handler\u001b[0m\u001b[1;33m.\u001b[0m\u001b[0mshould_sync\u001b[0m\u001b[1;33m:\u001b[0m\u001b[1;33m\u001b[0m\u001b[1;33m\u001b[0m\u001b[0m\n\u001b[0;32m   1652\u001b[0m                                 \u001b[0mcontext\u001b[0m\u001b[1;33m.\u001b[0m\u001b[0masync_wait\u001b[0m\u001b[1;33m(\u001b[0m\u001b[1;33m)\u001b[0m\u001b[1;33m\u001b[0m\u001b[1;33m\u001b[0m\u001b[0m\n",
      "\u001b[1;32m~\\anaconda3\\lib\\site-packages\\tensorflow\\python\\util\\traceback_utils.py\u001b[0m in \u001b[0;36merror_handler\u001b[1;34m(*args, **kwargs)\u001b[0m\n\u001b[0;32m    148\u001b[0m     \u001b[0mfiltered_tb\u001b[0m \u001b[1;33m=\u001b[0m \u001b[1;32mNone\u001b[0m\u001b[1;33m\u001b[0m\u001b[1;33m\u001b[0m\u001b[0m\n\u001b[0;32m    149\u001b[0m     \u001b[1;32mtry\u001b[0m\u001b[1;33m:\u001b[0m\u001b[1;33m\u001b[0m\u001b[1;33m\u001b[0m\u001b[0m\n\u001b[1;32m--> 150\u001b[1;33m       \u001b[1;32mreturn\u001b[0m \u001b[0mfn\u001b[0m\u001b[1;33m(\u001b[0m\u001b[1;33m*\u001b[0m\u001b[0margs\u001b[0m\u001b[1;33m,\u001b[0m \u001b[1;33m**\u001b[0m\u001b[0mkwargs\u001b[0m\u001b[1;33m)\u001b[0m\u001b[1;33m\u001b[0m\u001b[1;33m\u001b[0m\u001b[0m\n\u001b[0m\u001b[0;32m    151\u001b[0m     \u001b[1;32mexcept\u001b[0m \u001b[0mException\u001b[0m \u001b[1;32mas\u001b[0m \u001b[0me\u001b[0m\u001b[1;33m:\u001b[0m\u001b[1;33m\u001b[0m\u001b[1;33m\u001b[0m\u001b[0m\n\u001b[0;32m    152\u001b[0m       \u001b[0mfiltered_tb\u001b[0m \u001b[1;33m=\u001b[0m \u001b[0m_process_traceback_frames\u001b[0m\u001b[1;33m(\u001b[0m\u001b[0me\u001b[0m\u001b[1;33m.\u001b[0m\u001b[0m__traceback__\u001b[0m\u001b[1;33m)\u001b[0m\u001b[1;33m\u001b[0m\u001b[1;33m\u001b[0m\u001b[0m\n",
      "\u001b[1;32m~\\anaconda3\\lib\\site-packages\\tensorflow\\python\\eager\\polymorphic_function\\polymorphic_function.py\u001b[0m in \u001b[0;36m__call__\u001b[1;34m(self, *args, **kwds)\u001b[0m\n\u001b[0;32m    878\u001b[0m \u001b[1;33m\u001b[0m\u001b[0m\n\u001b[0;32m    879\u001b[0m       \u001b[1;32mwith\u001b[0m \u001b[0mOptionalXlaContext\u001b[0m\u001b[1;33m(\u001b[0m\u001b[0mself\u001b[0m\u001b[1;33m.\u001b[0m\u001b[0m_jit_compile\u001b[0m\u001b[1;33m)\u001b[0m\u001b[1;33m:\u001b[0m\u001b[1;33m\u001b[0m\u001b[1;33m\u001b[0m\u001b[0m\n\u001b[1;32m--> 880\u001b[1;33m         \u001b[0mresult\u001b[0m \u001b[1;33m=\u001b[0m \u001b[0mself\u001b[0m\u001b[1;33m.\u001b[0m\u001b[0m_call\u001b[0m\u001b[1;33m(\u001b[0m\u001b[1;33m*\u001b[0m\u001b[0margs\u001b[0m\u001b[1;33m,\u001b[0m \u001b[1;33m**\u001b[0m\u001b[0mkwds\u001b[0m\u001b[1;33m)\u001b[0m\u001b[1;33m\u001b[0m\u001b[1;33m\u001b[0m\u001b[0m\n\u001b[0m\u001b[0;32m    881\u001b[0m \u001b[1;33m\u001b[0m\u001b[0m\n\u001b[0;32m    882\u001b[0m       \u001b[0mnew_tracing_count\u001b[0m \u001b[1;33m=\u001b[0m \u001b[0mself\u001b[0m\u001b[1;33m.\u001b[0m\u001b[0mexperimental_get_tracing_count\u001b[0m\u001b[1;33m(\u001b[0m\u001b[1;33m)\u001b[0m\u001b[1;33m\u001b[0m\u001b[1;33m\u001b[0m\u001b[0m\n",
      "\u001b[1;32m~\\anaconda3\\lib\\site-packages\\tensorflow\\python\\eager\\polymorphic_function\\polymorphic_function.py\u001b[0m in \u001b[0;36m_call\u001b[1;34m(self, *args, **kwds)\u001b[0m\n\u001b[0;32m    910\u001b[0m       \u001b[1;31m# In this case we have created variables on the first call, so we run the\u001b[0m\u001b[1;33m\u001b[0m\u001b[1;33m\u001b[0m\u001b[0m\n\u001b[0;32m    911\u001b[0m       \u001b[1;31m# defunned version which is guaranteed to never create variables.\u001b[0m\u001b[1;33m\u001b[0m\u001b[1;33m\u001b[0m\u001b[0m\n\u001b[1;32m--> 912\u001b[1;33m       \u001b[1;32mreturn\u001b[0m \u001b[0mself\u001b[0m\u001b[1;33m.\u001b[0m\u001b[0m_no_variable_creation_fn\u001b[0m\u001b[1;33m(\u001b[0m\u001b[1;33m*\u001b[0m\u001b[0margs\u001b[0m\u001b[1;33m,\u001b[0m \u001b[1;33m**\u001b[0m\u001b[0mkwds\u001b[0m\u001b[1;33m)\u001b[0m  \u001b[1;31m# pylint: disable=not-callable\u001b[0m\u001b[1;33m\u001b[0m\u001b[1;33m\u001b[0m\u001b[0m\n\u001b[0m\u001b[0;32m    913\u001b[0m     \u001b[1;32melif\u001b[0m \u001b[0mself\u001b[0m\u001b[1;33m.\u001b[0m\u001b[0m_variable_creation_fn\u001b[0m \u001b[1;32mis\u001b[0m \u001b[1;32mnot\u001b[0m \u001b[1;32mNone\u001b[0m\u001b[1;33m:\u001b[0m\u001b[1;33m\u001b[0m\u001b[1;33m\u001b[0m\u001b[0m\n\u001b[0;32m    914\u001b[0m       \u001b[1;31m# Release the lock early so that multiple threads can perform the call\u001b[0m\u001b[1;33m\u001b[0m\u001b[1;33m\u001b[0m\u001b[0m\n",
      "\u001b[1;32m~\\anaconda3\\lib\\site-packages\\tensorflow\\python\\eager\\polymorphic_function\\tracing_compiler.py\u001b[0m in \u001b[0;36m__call__\u001b[1;34m(self, *args, **kwargs)\u001b[0m\n\u001b[0;32m    132\u001b[0m       (concrete_function,\n\u001b[0;32m    133\u001b[0m        filtered_flat_args) = self._maybe_define_function(args, kwargs)\n\u001b[1;32m--> 134\u001b[1;33m     return concrete_function._call_flat(\n\u001b[0m\u001b[0;32m    135\u001b[0m         filtered_flat_args, captured_inputs=concrete_function.captured_inputs)  # pylint: disable=protected-access\n\u001b[0;32m    136\u001b[0m \u001b[1;33m\u001b[0m\u001b[0m\n",
      "\u001b[1;32m~\\anaconda3\\lib\\site-packages\\tensorflow\\python\\eager\\polymorphic_function\\monomorphic_function.py\u001b[0m in \u001b[0;36m_call_flat\u001b[1;34m(self, args, captured_inputs, cancellation_manager)\u001b[0m\n\u001b[0;32m   1743\u001b[0m         and executing_eagerly):\n\u001b[0;32m   1744\u001b[0m       \u001b[1;31m# No tape is watching; skip to running the function.\u001b[0m\u001b[1;33m\u001b[0m\u001b[1;33m\u001b[0m\u001b[0m\n\u001b[1;32m-> 1745\u001b[1;33m       return self._build_call_outputs(self._inference_function.call(\n\u001b[0m\u001b[0;32m   1746\u001b[0m           ctx, args, cancellation_manager=cancellation_manager))\n\u001b[0;32m   1747\u001b[0m     forward_backward = self._select_forward_and_backward_functions(\n",
      "\u001b[1;32m~\\anaconda3\\lib\\site-packages\\tensorflow\\python\\eager\\polymorphic_function\\monomorphic_function.py\u001b[0m in \u001b[0;36mcall\u001b[1;34m(self, ctx, args, cancellation_manager)\u001b[0m\n\u001b[0;32m    376\u001b[0m       \u001b[1;32mwith\u001b[0m \u001b[0m_InterpolateFunctionError\u001b[0m\u001b[1;33m(\u001b[0m\u001b[0mself\u001b[0m\u001b[1;33m)\u001b[0m\u001b[1;33m:\u001b[0m\u001b[1;33m\u001b[0m\u001b[1;33m\u001b[0m\u001b[0m\n\u001b[0;32m    377\u001b[0m         \u001b[1;32mif\u001b[0m \u001b[0mcancellation_manager\u001b[0m \u001b[1;32mis\u001b[0m \u001b[1;32mNone\u001b[0m\u001b[1;33m:\u001b[0m\u001b[1;33m\u001b[0m\u001b[1;33m\u001b[0m\u001b[0m\n\u001b[1;32m--> 378\u001b[1;33m           outputs = execute.execute(\n\u001b[0m\u001b[0;32m    379\u001b[0m               \u001b[0mstr\u001b[0m\u001b[1;33m(\u001b[0m\u001b[0mself\u001b[0m\u001b[1;33m.\u001b[0m\u001b[0msignature\u001b[0m\u001b[1;33m.\u001b[0m\u001b[0mname\u001b[0m\u001b[1;33m)\u001b[0m\u001b[1;33m,\u001b[0m\u001b[1;33m\u001b[0m\u001b[1;33m\u001b[0m\u001b[0m\n\u001b[0;32m    380\u001b[0m               \u001b[0mnum_outputs\u001b[0m\u001b[1;33m=\u001b[0m\u001b[0mself\u001b[0m\u001b[1;33m.\u001b[0m\u001b[0m_num_outputs\u001b[0m\u001b[1;33m,\u001b[0m\u001b[1;33m\u001b[0m\u001b[1;33m\u001b[0m\u001b[0m\n",
      "\u001b[1;32m~\\anaconda3\\lib\\site-packages\\tensorflow\\python\\eager\\execute.py\u001b[0m in \u001b[0;36mquick_execute\u001b[1;34m(op_name, num_outputs, inputs, attrs, ctx, name)\u001b[0m\n\u001b[0;32m     50\u001b[0m   \u001b[1;32mtry\u001b[0m\u001b[1;33m:\u001b[0m\u001b[1;33m\u001b[0m\u001b[1;33m\u001b[0m\u001b[0m\n\u001b[0;32m     51\u001b[0m     \u001b[0mctx\u001b[0m\u001b[1;33m.\u001b[0m\u001b[0mensure_initialized\u001b[0m\u001b[1;33m(\u001b[0m\u001b[1;33m)\u001b[0m\u001b[1;33m\u001b[0m\u001b[1;33m\u001b[0m\u001b[0m\n\u001b[1;32m---> 52\u001b[1;33m     tensors = pywrap_tfe.TFE_Py_Execute(ctx._handle, device_name, op_name,\n\u001b[0m\u001b[0;32m     53\u001b[0m                                         inputs, attrs, num_outputs)\n\u001b[0;32m     54\u001b[0m   \u001b[1;32mexcept\u001b[0m \u001b[0mcore\u001b[0m\u001b[1;33m.\u001b[0m\u001b[0m_NotOkStatusException\u001b[0m \u001b[1;32mas\u001b[0m \u001b[0me\u001b[0m\u001b[1;33m:\u001b[0m\u001b[1;33m\u001b[0m\u001b[1;33m\u001b[0m\u001b[0m\n",
      "\u001b[1;31mKeyboardInterrupt\u001b[0m: "
     ]
    }
   ],
   "source": [
    "model1.fit(X_train, y_train, epochs=30 , batch_size=32, validation_data=(X_val, y_val), callbacks=[checkpoint])"
   ]
  },
  {
   "cell_type": "code",
   "execution_count": null,
   "id": "e46f26e8",
   "metadata": {},
   "outputs": [],
   "source": []
  }
 ],
 "metadata": {
  "kernelspec": {
   "display_name": "Python 3 (ipykernel)",
   "language": "python",
   "name": "python3"
  },
  "language_info": {
   "codemirror_mode": {
    "name": "ipython",
    "version": 3
   },
   "file_extension": ".py",
   "mimetype": "text/x-python",
   "name": "python",
   "nbconvert_exporter": "python",
   "pygments_lexer": "ipython3",
   "version": "3.10.9"
  }
 },
 "nbformat": 4,
 "nbformat_minor": 5
}
