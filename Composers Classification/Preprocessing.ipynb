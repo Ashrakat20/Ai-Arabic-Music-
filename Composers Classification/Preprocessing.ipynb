{
 "cells": [
  {
   "cell_type": "code",
   "execution_count": null,
   "id": "11c3cef1",
   "metadata": {},
   "outputs": [],
   "source": [
    "import os\n",
    "from pydub import AudioSegment\n",
    "import librosa\n",
    "import soundfile as sf\n",
    "from matplotlib import pyplot as plt\n",
    "import librosa.display\n",
    "import numpy as np\n",
    "import io\n",
    "from keras.models import load_model"
   ]
  },
  {
   "cell_type": "markdown",
   "id": "ac4d05f7",
   "metadata": {},
   "source": [
    "# MP3 to WAV Function"
   ]
  },
  {
   "cell_type": "code",
   "execution_count": null,
   "id": "1e345444",
   "metadata": {},
   "outputs": [],
   "source": [
    "def MP3TOWAV(mp3_folder, wav_folder):\n",
    "    for filename in os.listdir(mp3_folder):\n",
    "        if filename.endswith(\".mp3\"):\n",
    "            ## Set input and output file paths\n",
    "            mp3_path = os.path.join(mp3_folder, filename)\n",
    "            wav_path = os.path.join(wav_folder, os.path.splitext(filename)[0] + \".wav\")\n",
    "            \n",
    "            # Load MP3 file using pydub\n",
    "            audio = AudioSegment.from_file(mp3_path)\n",
    "\n",
    "            # Export the audio file to a WAV file\n",
    "            audio.export(wav_path, format=\"wav\")"
   ]
  },
  {
   "cell_type": "markdown",
   "id": "1155bab5",
   "metadata": {},
   "source": [
    "# Normalization function"
   ]
  },
  {
   "cell_type": "code",
   "execution_count": null,
   "id": "336fdb14",
   "metadata": {},
   "outputs": [],
   "source": [
    "def Norm(input_folder, output_folder):\n",
    "    for filename in os.listdir(input_folder):\n",
    "        if filename.endswith(\".wav\"):\n",
    "            input_path = os.path.join(input_folder, filename)\n",
    "            output_path = os.path.join(output_folder, filename)\n",
    "\n",
    "            # Load audio file using librosa\n",
    "            y, sr = librosa.load(input_path, sr=None)\n",
    "\n",
    "            # Normalize audio using peak amplitude normalization\n",
    "            y_normalized = librosa.util.normalize(y)\n",
    "\n",
    "            # Save normalized audio to file\n",
    "            sf.write(output_path, y_normalized, sr)"
   ]
  },
  {
   "cell_type": "markdown",
   "id": "3bb84803",
   "metadata": {},
   "source": [
    "# Segmentation function"
   ]
  },
  {
   "cell_type": "code",
   "execution_count": null,
   "id": "3cfe5fc0",
   "metadata": {},
   "outputs": [],
   "source": [
    "def Segment(input_folder, output_folder):\n",
    "    segment_length = 10\n",
    "    hop_length = 2\n",
    "    \n",
    "    for filename in os.listdir(input_folder):\n",
    "        if filename.endswith(\".wav\"):\n",
    "            ## Set input and output file paths\n",
    "            input_path = os.path.join(input_folder, filename)\n",
    "            output_path = os.path.join(output_folder, filename)\n",
    "\n",
    "            # Load audio file using librosa\n",
    "            y, sr = librosa.load(input_path, sr=None)\n",
    "\n",
    "            # Calculate segment frame and sample lengths\n",
    "            segment_frames = int(segment_length * sr)\n",
    "            hop_frames = int(hop_length * sr)\n",
    "            total_frames = len(y)\n",
    "            total_segments = int((total_frames - segment_frames) / hop_frames) + 1\n",
    "\n",
    "            # Segment audio using a sliding window\n",
    "            for i in range(total_segments):\n",
    "                # Calculate start and end frame indices for current segment\n",
    "                start_frame = i * hop_frames\n",
    "                end_frame = start_frame + segment_frames\n",
    "\n",
    "                # Extract audio segment\n",
    "                y_segment = y[start_frame:end_frame]\n",
    "\n",
    "                # Set output file path for current segment\n",
    "                output_segment_path = output_path.replace(\".wav\", f\"_segment{i}.wav\")\n",
    "\n",
    "                # Save audio segment to file\n",
    "                #librosa.output.write_wav(output_segment_path, y_segment, sr)\n",
    "                sf.write(output_segment_path, y_segment, sr)\n",
    "\n"
   ]
  },
  {
   "cell_type": "markdown",
   "id": "65778896",
   "metadata": {},
   "source": [
    "# Extracting MFCC function"
   ]
  },
  {
   "cell_type": "code",
   "execution_count": null,
   "id": "9ec0ad96",
   "metadata": {},
   "outputs": [],
   "source": [
    "def MFCC(input_folder, output_folder):\n",
    "    # Extracting MFCC\n",
    "    # Set up parameters for MFCC extraction\n",
    "    n_fft = 2048\n",
    "    hop_length = 512\n",
    "    n_mels = 128\n",
    "    n_mfcc = 20\n",
    "    \n",
    "    # Loop over files in input folder\n",
    "    for file_name in os.listdir(input_folder):\n",
    "        # Check if file is a WAV file\n",
    "        if not file_name.endswith('.wav'):\n",
    "            continue\n",
    "\n",
    "        # Load audio file using librosa\n",
    "        file_path = os.path.join(input_folder, file_name)\n",
    "        y, sr = librosa.load(file_path, sr=None)\n",
    "\n",
    "        # Compute MFCCs\n",
    "        mfcc = librosa.feature.mfcc(y=y, sr=sr, n_fft=n_fft, hop_length=hop_length, n_mels=n_mels, n_mfcc=n_mfcc)\n",
    "\n",
    "        # Save MFCCs to file\n",
    "        output_path = os.path.join(output_folder, file_name.replace('.wav', '_mfcc.npy'))\n",
    "        np.save(output_path, mfcc)\n",
    "    "
   ]
  },
  {
   "cell_type": "markdown",
   "id": "8a3b762a",
   "metadata": {},
   "source": [
    "# Converting to WAV"
   ]
  },
  {
   "cell_type": "code",
   "execution_count": null,
   "id": "856a281c",
   "metadata": {},
   "outputs": [],
   "source": [
    "input_folder = r\"D:\\Education\\Semester 6\\CSE 321 Project Based Learning on CSE\\Composers Classification\\Composers\\رياض السنباطي\"\n",
    "wav_out = r\"D:\\Education\\Semester 6\\CSE 321 Project Based Learning on CSE\\Composers Classification\\WAV\\رياض السنباطي\"\n",
    "\n",
    "MP3TOWAV(input_folder, wav_out)"
   ]
  },
  {
   "cell_type": "markdown",
   "id": "9aae4906",
   "metadata": {},
   "source": [
    "# Normalization"
   ]
  },
  {
   "cell_type": "code",
   "execution_count": null,
   "id": "d81f201d",
   "metadata": {},
   "outputs": [],
   "source": [
    "input_folder = r\"D:\\Education\\Semester 6\\CSE 321 Project Based Learning on CSE\\Composers Classification\\WAV\\رياض السنباطي\"\n",
    "norm_out = r\"D:\\Education\\Semester 6\\CSE 321 Project Based Learning on CSE\\Composers Classification\\Normalized\\رياض السنباطي\"\n",
    "\n",
    "Norm(input_folder, norm_out)"
   ]
  },
  {
   "cell_type": "markdown",
   "id": "2b82e151",
   "metadata": {},
   "source": [
    "# Segmentation "
   ]
  },
  {
   "cell_type": "code",
   "execution_count": null,
   "id": "e2544959",
   "metadata": {},
   "outputs": [],
   "source": [
    "input_folder = r\"D:\\Education\\Semester 6\\CSE 321 Project Based Learning on CSE\\Composers Classification\\Normalized\\رياض السنباطي\"\n",
    "seg_out = r\"D:\\Education\\Semester 6\\CSE 321 Project Based Learning on CSE\\Composers Classification\\Segmented\\رياض السنباطي\"\n",
    "\n",
    "Segment(input_folder, seg_out)"
   ]
  },
  {
   "cell_type": "markdown",
   "id": "5ce43576",
   "metadata": {},
   "source": [
    "# MFCC"
   ]
  },
  {
   "cell_type": "code",
   "execution_count": null,
   "id": "306b8629",
   "metadata": {},
   "outputs": [],
   "source": [
    "input_folder = r\"D:\\Education\\Semester 6\\CSE 321 Project Based Learning on CSE\\Composers Classification\\Segmented\\بليغ حمدي\"\n",
    "mfcc_out = r\"D:\\Education\\Semester 6\\CSE 321 Project Based Learning on CSE\\Composers Classification\\MFCC\\بليغ حمدي\"\n",
    "\n",
    "MFCC(input_folder, mfcc_out)"
   ]
  },
  {
   "cell_type": "code",
   "execution_count": null,
   "id": "c85feb53",
   "metadata": {},
   "outputs": [],
   "source": []
  }
 ],
 "metadata": {
  "kernelspec": {
   "display_name": "Python 3 (ipykernel)",
   "language": "python",
   "name": "python3"
  },
  "language_info": {
   "codemirror_mode": {
    "name": "ipython",
    "version": 3
   },
   "file_extension": ".py",
   "mimetype": "text/x-python",
   "name": "python",
   "nbconvert_exporter": "python",
   "pygments_lexer": "ipython3",
   "version": "3.9.13"
  }
 },
 "nbformat": 4,
 "nbformat_minor": 5
}
